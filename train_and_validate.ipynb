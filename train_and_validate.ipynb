{
 "cells": [
  {
   "cell_type": "code",
   "execution_count": 1,
   "id": "87fa5df9",
   "metadata": {},
   "outputs": [],
   "source": [
    "#import pandas as pd\n",
    "import numpy as np\n",
    "import datetime\n",
    "from tqdm import tqdm\n",
    "from sklearn.preprocessing import StandardScaler\n",
    "from sklearn.metrics import mean_squared_error\n",
    "from datetime import datetime"
   ]
  },
  {
   "cell_type": "code",
   "execution_count": 2,
   "id": "0ced88fb",
   "metadata": {},
   "outputs": [],
   "source": [
    "import matplotlib.pyplot as plt # plotting\n",
    "import os # accessing directory structure"
   ]
  },
  {
   "cell_type": "code",
   "execution_count": 3,
   "id": "b210024d",
   "metadata": {},
   "outputs": [],
   "source": [
    "import tensorflow as tf\n",
    "from keras import layers\n",
    "from keras import models\n",
    "import gc\n",
    "from tensorflow.keras.callbacks import ModelCheckpoint"
   ]
  },
  {
   "cell_type": "code",
   "execution_count": 4,
   "id": "c10687be",
   "metadata": {},
   "outputs": [],
   "source": [
    "def make_target(era_fname, mapping):\n",
    "    era = np.load(era_fname)\n",
    "    data = np.reshape(era, (era.shape[0],era.shape[1], -1))\n",
    "    target = np.zeros((24,3,len(mapping)))\n",
    "    for i in range(len(mapping)):\n",
    "        target[:,:,i] = data[:,:,mapping[i]]\n",
    "    \n",
    "    return target\n"
   ]
  },
  {
   "cell_type": "code",
   "execution_count": 5,
   "id": "cc2fd399",
   "metadata": {},
   "outputs": [],
   "source": [
    "mapping = np.load('wrferaMapping.npy')\n",
    "landmask = np.load('landmask.npy')"
   ]
  },
  {
   "cell_type": "code",
   "execution_count": 304,
   "id": "8f88ed67",
   "metadata": {},
   "outputs": [
    {
     "name": "stdout",
     "output_type": "stream",
     "text": [
      "(24, 3, 58800)\n",
      "(24, 3, 58800)\n",
      "(24, 3, 58800)\n",
      "(24, 3, 58800)\n",
      "(24, 3, 58800)\n",
      "(24, 3, 58800)\n",
      "(24, 3, 58800)\n",
      "(24, 3, 58800)\n",
      "(24, 3, 58800)\n",
      "(24, 3, 58800)\n",
      "(24, 3, 58800)\n",
      "(24, 3, 58800)\n",
      "(24, 3, 58800)\n",
      "(24, 3, 58800)\n",
      "(24, 3, 58800)\n",
      "(24, 3, 58800)\n",
      "(24, 3, 58800)\n",
      "(24, 3, 58800)\n",
      "(24, 3, 58800)\n",
      "(24, 3, 58800)\n",
      "(24, 3, 58800)\n",
      "(24, 3, 58800)\n",
      "(24, 3, 58800)\n",
      "(24, 3, 58800)\n",
      "(24, 3, 58800)\n",
      "(24, 3, 58800)\n",
      "(24, 3, 58800)\n",
      "(24, 3, 58800)\n",
      "(24, 3, 58800)\n",
      "(24, 3, 58800)\n",
      "(24, 3, 58800)\n",
      "(24, 3, 58800)\n",
      "(24, 3, 58800)\n",
      "(24, 3, 58800)\n",
      "(24, 3, 58800)\n",
      "(24, 3, 58800)\n",
      "(24, 3, 58800)\n",
      "(24, 3, 58800)\n",
      "(24, 3, 58800)\n",
      "(24, 3, 58800)\n",
      "(24, 3, 58800)\n",
      "(24, 3, 58800)\n",
      "(24, 3, 58800)\n",
      "(24, 3, 58800)\n",
      "(24, 3, 58800)\n",
      "(24, 3, 58800)\n",
      "(24, 3, 58800)\n",
      "(24, 3, 58800)\n",
      "(24, 3, 58800)\n",
      "(24, 3, 58800)\n",
      "(24, 3, 58800)\n",
      "(24, 3, 58800)\n",
      "(24, 3, 58800)\n",
      "(24, 3, 58800)\n",
      "(24, 3, 58800)\n",
      "(24, 3, 58800)\n",
      "(24, 3, 58800)\n",
      "(24, 3, 58800)\n",
      "(24, 3, 58800)\n",
      "(24, 3, 58800)\n",
      "(24, 3, 58800)\n",
      "(24, 3, 58800)\n",
      "(24, 3, 58800)\n",
      "(24, 3, 58800)\n",
      "(24, 3, 58800)\n",
      "(24, 3, 58800)\n",
      "(24, 3, 58800)\n",
      "(24, 3, 58800)\n",
      "(24, 3, 58800)\n",
      "(24, 3, 58800)\n",
      "(24, 3, 58800)\n",
      "(24, 3, 58800)\n",
      "(24, 3, 58800)\n",
      "(24, 3, 58800)\n",
      "(24, 3, 58800)\n",
      "(24, 3, 58800)\n",
      "(24, 3, 58800)\n",
      "(24, 3, 58800)\n",
      "(24, 3, 58800)\n",
      "(24, 3, 58800)\n",
      "(24, 3, 58800)\n",
      "(24, 3, 58800)\n",
      "(24, 3, 58800)\n",
      "(24, 3, 58800)\n",
      "(24, 3, 58800)\n",
      "(24, 3, 58800)\n",
      "(24, 3, 58800)\n",
      "(24, 3, 58800)\n",
      "(24, 3, 58800)\n",
      "(24, 3, 58800)\n"
     ]
    },
    {
     "ename": "KeyboardInterrupt",
     "evalue": "",
     "output_type": "error",
     "traceback": [
      "\u001b[1;31m---------------------------------------------------------------------------\u001b[0m",
      "\u001b[1;31mKeyboardInterrupt\u001b[0m                         Traceback (most recent call last)",
      "Cell \u001b[1;32mIn[304], line 9\u001b[0m\n\u001b[0;32m      7\u001b[0m \u001b[38;5;28;01mfor\u001b[39;00m filename \u001b[38;5;129;01min\u001b[39;00m filenames:\n\u001b[0;32m      8\u001b[0m     era_fname \u001b[38;5;241m=\u001b[39m os\u001b[38;5;241m.\u001b[39mpath\u001b[38;5;241m.\u001b[39mjoin(era_path, filename)\n\u001b[1;32m----> 9\u001b[0m     df \u001b[38;5;241m=\u001b[39m \u001b[43mmake_target\u001b[49m\u001b[43m(\u001b[49m\u001b[43mera_fname\u001b[49m\u001b[43m,\u001b[49m\u001b[43m \u001b[49m\u001b[43mmapping\u001b[49m\u001b[43m)\u001b[49m\n\u001b[0;32m     10\u001b[0m     \u001b[38;5;28mprint\u001b[39m(df\u001b[38;5;241m.\u001b[39mshape)\n\u001b[0;32m     11\u001b[0m     target_fname \u001b[38;5;241m=\u001b[39m os\u001b[38;5;241m.\u001b[39mpath\u001b[38;5;241m.\u001b[39mjoin(target_path,filename)\n",
      "Cell \u001b[1;32mIn[301], line 6\u001b[0m, in \u001b[0;36mmake_target\u001b[1;34m(era_fname, mapping)\u001b[0m\n\u001b[0;32m      4\u001b[0m target \u001b[38;5;241m=\u001b[39m np\u001b[38;5;241m.\u001b[39mzeros((\u001b[38;5;241m24\u001b[39m,\u001b[38;5;241m3\u001b[39m,\u001b[38;5;28mlen\u001b[39m(mapping)))\n\u001b[0;32m      5\u001b[0m \u001b[38;5;28;01mfor\u001b[39;00m i \u001b[38;5;129;01min\u001b[39;00m \u001b[38;5;28mrange\u001b[39m(\u001b[38;5;28mlen\u001b[39m(mapping)):\n\u001b[1;32m----> 6\u001b[0m     target[:,:,i] \u001b[38;5;241m=\u001b[39m data[:,:,mapping[i]]\n\u001b[0;32m      8\u001b[0m \u001b[38;5;28;01mreturn\u001b[39;00m target\n",
      "\u001b[1;31mKeyboardInterrupt\u001b[0m: "
     ]
    }
   ],
   "source": [
    "#creates era files mapped to wrf node matrixwrf_shape = (24,3,210,280)\n",
    "wrf_shape = (24,3,210,280)\n",
    "\n",
    "era_path = os.getcwd()+'\\\\train\\\\era5\\\\'\n",
    "target_path = os.getcwd()+'\\\\train\\\\target\\\\'\n",
    "for dirname, _, filenames in os.walk(era_path):\n",
    "    for filename in filenames:\n",
    "        era_fname = os.path.join(era_path, filename)\n",
    "        df = make_target(era_fname, mapping)\n",
    "        target_fname = os.path.join(target_path,filename)\n",
    "        df = np.reshape(df,wrf_shape)\n",
    "        np.save(target_fname,df)\n",
    "    "
   ]
  },
  {
   "cell_type": "code",
   "execution_count": 6,
   "id": "f73f6f62",
   "metadata": {},
   "outputs": [],
   "source": [
    "def scale_data(data):\n",
    "    data[:,2,:,:] = data[:,2,:,:]/100\n",
    "    data=data/20\n",
    "    return data\n",
    "def invert_scale_data(data):\n",
    "    data=data*20\n",
    "    data[:,2,:,:] = data[:,2,:,:]*100\n",
    "    return data"
   ]
  },
  {
   "cell_type": "code",
   "execution_count": 7,
   "id": "214b0db6",
   "metadata": {},
   "outputs": [],
   "source": [
    "def scale_error(error):\n",
    "    error=error/20\n",
    "    return error\n",
    "def invert_scale_error(error):\n",
    "    error=error*20\n",
    "    return error"
   ]
  },
  {
   "cell_type": "code",
   "execution_count": 42,
   "id": "7e3ff27b",
   "metadata": {},
   "outputs": [
    {
     "name": "stdout",
     "output_type": "stream",
     "text": [
      "None\n"
     ]
    }
   ],
   "source": [
    "import os\n",
    "import glob\n",
    "import numpy as np\n",
    "import tensorflow as tf\n",
    "\n",
    "# Specify the folder containing your .npy files\n",
    "\n",
    "wrf_path = os.getcwd()+'\\\\train\\\\wrf\\\\'\n",
    "target_path = os.getcwd()+'\\\\train\\\\target\\\\'\n",
    "# Get a list of .npy files in the folder\n",
    "file_list = sorted(glob.glob(os.path.join(wrf_path, '*.npy')))\n",
    "target_list = sorted(glob.glob(os.path.join(target_path, '*.npy')))\n",
    "# Shuffle the file list if needed\n",
    "numbers = list(range(len(file_list)))\n",
    "np.random.shuffle(numbers)\n",
    "print(numbers)\n",
    "# Define a custom data generator iterator\n",
    "def data_generator(file_list, target_list, numbers, epochs):\n",
    "    for k in range(epochs):\n",
    "        for i in numbers:\n",
    "            # Load data from the .npy file\n",
    "            data = np.load(file_list[i])\n",
    "            #scaling wrf data, but not target era5\n",
    "            data = scale_data(data)\n",
    "            target = np.load(target_list[i])\n",
    "            \n",
    "            yield data, target\n",
    "\n"
   ]
  },
  {
   "cell_type": "code",
   "execution_count": 53,
   "id": "ac359e80",
   "metadata": {},
   "outputs": [
    {
     "name": "stdout",
     "output_type": "stream",
     "text": [
      "[127, 103, 74, 10, 255, 170, 289, 124, 221, 286, 272, 267, 219, 295, 213, 138, 26, 128, 160, 218, 86, 130, 287, 25, 169, 174, 44, 145, 312, 140, 156, 311, 64, 308, 117, 106, 323, 244, 181, 137, 114, 14, 215, 52, 166, 90, 11, 224, 245, 20, 34, 118, 84, 331, 7, 249, 82, 111, 105, 220, 5, 254, 336, 281, 0, 350, 63, 42, 104, 275, 121, 329, 109, 75, 345, 332, 202, 168, 304, 322, 179, 276, 326, 110, 320, 165, 268, 112, 298, 45, 200, 340, 180, 233, 135, 199, 33, 122, 159, 18, 167, 225, 4, 263, 248, 173, 355, 234, 269, 139, 31, 48, 152, 241, 356, 162, 305, 314, 2, 70, 338, 68, 271, 309, 231, 306, 65, 330, 184, 293, 282, 107, 79, 27, 260, 258, 24, 347, 13, 344, 363, 239, 6, 285, 288, 339, 12, 240, 172, 35, 21, 123, 265, 250, 190, 195, 209, 321, 204, 163, 99, 205, 193, 186, 294, 95, 155, 334, 315, 201, 232, 342, 92, 197, 150, 211, 346, 72, 319, 273, 131, 229, 16, 100, 243, 116, 228, 59, 237, 23, 182, 98, 335, 61, 247, 206, 262, 236, 54, 217, 198, 257, 161, 313, 76, 8, 3, 185, 176, 274, 360, 364, 37, 96, 51, 307, 223, 214, 158, 310, 85, 47, 101, 171, 66, 296, 284, 203, 207, 333, 120, 297, 358, 40, 77, 246, 39, 32, 144, 264, 146, 56, 125, 134, 341, 30, 73, 357, 317, 327, 175, 300, 277, 132, 83, 337, 38, 196, 141, 302, 78, 283, 210, 256, 17, 29, 278, 212, 108, 149, 94, 81, 102, 208, 147, 318, 58, 343, 41, 192, 69, 153, 352, 351, 36, 261, 216, 1, 87, 301, 238, 291, 91, 325, 290, 252, 226, 178, 133, 189, 187, 129, 266, 251, 157, 154, 362, 303, 242, 188, 148, 15, 142, 361, 53, 93, 115, 222, 136, 227, 348, 191, 49, 67, 19, 353, 143, 80, 62, 359, 89, 280, 270, 299, 316, 97, 183, 43, 328, 119, 164, 349, 151, 292, 177, 259, 235, 253, 46, 194, 230, 9, 279, 71, 22, 28, 88, 354, 55, 60, 126, 50, 57, 324, 113]\n"
     ]
    }
   ],
   "source": [
    "#np.random.shuffle(numbers)\n",
    "print(numbers)"
   ]
  },
  {
   "cell_type": "code",
   "execution_count": 54,
   "id": "b601d4a7",
   "metadata": {},
   "outputs": [],
   "source": [
    "batch_size=32\n",
    "input_shape =(batch_size, 3, 210, 280)\n",
    "\n",
    "model = tf.keras.Sequential([\n",
    "  tf.keras.layers.Conv2D(20, 3, activation='relu', data_format='channels_first'),\n",
    "  tf.keras.layers.Conv2D(10, 3, activation='relu', data_format='channels_first'),\n",
    "  tf.keras.layers.Conv2D(10, 3, activation='relu', data_format='channels_first'),\n",
    "  tf.keras.layers.Conv2D(5, 3, activation='relu', data_format='channels_first'),\n",
    "  tf.keras.layers.Conv2D(5, 3, activation='relu', data_format='channels_first'),\n",
    "  tf.keras.layers.Conv2D(5, 3, activation='relu', data_format='channels_first'),\n",
    "    tf.keras.layers.Conv2DTranspose(5, 3, activation='relu', data_format='channels_first'),\n",
    "    tf.keras.layers.Conv2DTranspose(5, 3, activation='relu', data_format='channels_first'),\n",
    "    tf.keras.layers.Conv2DTranspose(5, 3, activation='relu', data_format='channels_first'),\n",
    "    tf.keras.layers.Conv2DTranspose(10, 3, activation='relu', data_format='channels_first'),\n",
    "    tf.keras.layers.Conv2DTranspose(10, 3, activation='relu', data_format='channels_first'),\n",
    "    tf.keras.layers.Conv2DTranspose(3, 3, activation='relu', data_format='channels_first')\n",
    "  \n",
    "  \n",
    "])"
   ]
  },
  {
   "cell_type": "code",
   "execution_count": 55,
   "id": "1c5eeb9b",
   "metadata": {},
   "outputs": [
    {
     "name": "stdout",
     "output_type": "stream",
     "text": [
      "Model: \"sequential_2\"\n",
      "_________________________________________________________________\n",
      " Layer (type)                Output Shape              Param #   \n",
      "=================================================================\n",
      " conv2d_12 (Conv2D)          (32, 20, 208, 278)        560       \n",
      "                                                                 \n",
      " conv2d_13 (Conv2D)          (32, 10, 206, 276)        1810      \n",
      "                                                                 \n",
      " conv2d_14 (Conv2D)          (32, 10, 204, 274)        910       \n",
      "                                                                 \n",
      " conv2d_15 (Conv2D)          (32, 5, 202, 272)         455       \n",
      "                                                                 \n",
      " conv2d_16 (Conv2D)          (32, 5, 200, 270)         230       \n",
      "                                                                 \n",
      " conv2d_17 (Conv2D)          (32, 5, 198, 268)         230       \n",
      "                                                                 \n",
      " conv2d_transpose_12 (Conv2D  (32, 5, 200, 270)        230       \n",
      " Transpose)                                                      \n",
      "                                                                 \n",
      " conv2d_transpose_13 (Conv2D  (32, 5, 202, 272)        230       \n",
      " Transpose)                                                      \n",
      "                                                                 \n",
      " conv2d_transpose_14 (Conv2D  (32, 5, 204, 274)        230       \n",
      " Transpose)                                                      \n",
      "                                                                 \n",
      " conv2d_transpose_15 (Conv2D  (32, 10, 206, 276)       460       \n",
      " Transpose)                                                      \n",
      "                                                                 \n",
      " conv2d_transpose_16 (Conv2D  (32, 10, 208, 278)       910       \n",
      " Transpose)                                                      \n",
      "                                                                 \n",
      " conv2d_transpose_17 (Conv2D  (32, 3, 210, 280)        273       \n",
      " Transpose)                                                      \n",
      "                                                                 \n",
      "=================================================================\n",
      "Total params: 6,528\n",
      "Trainable params: 6,528\n",
      "Non-trainable params: 0\n",
      "_________________________________________________________________\n"
     ]
    }
   ],
   "source": [
    "model.compile(\n",
    "  optimizer='adam',\n",
    "  loss=tf.keras.losses.MeanSquaredError(),\n",
    "  metrics=['mean_squared_error'])\n",
    "model.build(input_shape=input_shape)\n",
    "model.summary()"
   ]
  },
  {
   "cell_type": "code",
   "execution_count": 56,
   "id": "0d92b62f",
   "metadata": {},
   "outputs": [
    {
     "name": "stdout",
     "output_type": "stream",
     "text": [
      "Epoch 1/10\n",
      "250/250 [==============================] - ETA: 0s - loss: 5907.4399 - mean_squared_error: 5907.4468\n",
      "Epoch 1: val_loss improved from inf to 1160.39075, saving model to best_model_checkpoint.keras\n",
      "250/250 [==============================] - 16s 61ms/step - loss: 5907.4399 - mean_squared_error: 5907.4468 - val_loss: 1160.3907 - val_mean_squared_error: 1160.3909\n",
      "Epoch 2/10\n",
      "249/250 [============================>.] - ETA: 0s - loss: 773.9434 - mean_squared_error: 773.9438\n",
      "Epoch 2: val_loss improved from 1160.39075 to 488.59195, saving model to best_model_checkpoint.keras\n",
      "250/250 [==============================] - 14s 57ms/step - loss: 772.7204 - mean_squared_error: 772.7208 - val_loss: 488.5919 - val_mean_squared_error: 488.5919\n",
      "Epoch 3/10\n",
      "250/250 [==============================] - ETA: 0s - loss: 361.8655 - mean_squared_error: 361.8653\n",
      "Epoch 3: val_loss improved from 488.59195 to 256.78427, saving model to best_model_checkpoint.keras\n",
      "250/250 [==============================] - 14s 57ms/step - loss: 361.8655 - mean_squared_error: 361.8653 - val_loss: 256.7843 - val_mean_squared_error: 256.7842\n",
      "Epoch 4/10\n",
      "249/250 [============================>.] - ETA: 0s - loss: 192.5653 - mean_squared_error: 192.5653\n",
      "Epoch 4: val_loss improved from 256.78427 to 142.37715, saving model to best_model_checkpoint.keras\n",
      "250/250 [==============================] - 14s 57ms/step - loss: 192.3363 - mean_squared_error: 192.3363 - val_loss: 142.3772 - val_mean_squared_error: 142.3771\n",
      "Epoch 5/10\n",
      "250/250 [==============================] - ETA: 0s - loss: 109.5327 - mean_squared_error: 109.5327\n",
      "Epoch 5: val_loss improved from 142.37715 to 107.21936, saving model to best_model_checkpoint.keras\n",
      "250/250 [==============================] - 15s 59ms/step - loss: 109.5327 - mean_squared_error: 109.5327 - val_loss: 107.2194 - val_mean_squared_error: 107.2194\n",
      "Epoch 6/10\n",
      "250/250 [==============================] - ETA: 0s - loss: 75.4788 - mean_squared_error: 75.4788\n",
      "Epoch 6: val_loss improved from 107.21936 to 82.75736, saving model to best_model_checkpoint.keras\n",
      "250/250 [==============================] - 15s 59ms/step - loss: 75.4788 - mean_squared_error: 75.4788 - val_loss: 82.7574 - val_mean_squared_error: 82.7574\n",
      "Epoch 7/10\n",
      "250/250 [==============================] - ETA: 0s - loss: 64.5381 - mean_squared_error: 64.5382\n",
      "Epoch 7: val_loss improved from 82.75736 to 74.58465, saving model to best_model_checkpoint.keras\n",
      "250/250 [==============================] - 15s 60ms/step - loss: 64.5381 - mean_squared_error: 64.5382 - val_loss: 74.5846 - val_mean_squared_error: 74.5846\n",
      "Epoch 8/10\n",
      "250/250 [==============================] - ETA: 0s - loss: 63.7170 - mean_squared_error: 63.7170\n",
      "Epoch 8: val_loss improved from 74.58465 to 72.45126, saving model to best_model_checkpoint.keras\n",
      "250/250 [==============================] - 15s 61ms/step - loss: 63.7170 - mean_squared_error: 63.7170 - val_loss: 72.4513 - val_mean_squared_error: 72.4513\n",
      "Epoch 9/10\n",
      "250/250 [==============================] - ETA: 0s - loss: 63.6367 - mean_squared_error: 63.6367\n",
      "Epoch 9: val_loss improved from 72.45126 to 68.12694, saving model to best_model_checkpoint.keras\n",
      "250/250 [==============================] - 15s 61ms/step - loss: 63.6367 - mean_squared_error: 63.6367 - val_loss: 68.1269 - val_mean_squared_error: 68.1270\n",
      "Epoch 10/10\n",
      "250/250 [==============================] - ETA: 0s - loss: 62.1651 - mean_squared_error: 62.1651\n",
      "Epoch 10: val_loss improved from 68.12694 to 48.38693, saving model to best_model_checkpoint.keras\n",
      "250/250 [==============================] - 15s 62ms/step - loss: 62.1651 - mean_squared_error: 62.1651 - val_loss: 48.3869 - val_mean_squared_error: 48.3869\n"
     ]
    }
   ],
   "source": [
    "epochs=100\n",
    "\n",
    "# Create a dataset from the data generator\n",
    "#dataset = tf.data.Dataset.from_generator(data_generator, output_signature=tf.TensorSpec(shape=(None, None), dtype=tf.float32))\n",
    "train_set = data_generator(file_list, target_list, numbers[:len(numbers)*7//10], epochs*2)\n",
    "val_set = data_generator(file_list, target_list, numbers[len(numbers)*7//10:len(numbers)*8//10], epochs*2)\n",
    "test_set = data_generator(file_list, target_list, numbers[len(numbers)*8//10:], 1)\n",
    "\n",
    "# Specify the checkpoint file path and set up the ModelCheckpoint callback\n",
    "checkpoint_path = 'best_model_checkpoint.h5'\n",
    "checkpoint_callback = ModelCheckpoint(checkpoint_path, monitor='val_loss', save_best_only=True, save_weights_only=False, mode='min', verbose=1)\n",
    "\n",
    "\n",
    "\n",
    "history = model.fit(\n",
    "  train_set,\n",
    "  validation_data=val_set,\n",
    "  epochs=epochs,\n",
    "    steps_per_epoch=250,\n",
    "    validation_steps=35,\n",
    "    batch_size = batch_size, \n",
    "    callbacks=[checkpoint_callback]\n",
    "    )"
   ]
  },
  {
   "cell_type": "code",
   "execution_count": 57,
   "id": "19032ec3",
   "metadata": {},
   "outputs": [
    {
     "data": {
      "image/png": "[encoded data removed]",
      "text/plain": [
       "<Figure size 800x800 with 2 Axes>"
      ]
     },
     "metadata": {},
     "output_type": "display_data"
    }
   ],
   "source": [
    "\n",
    "acc = history.history['mean_squared_error']\n",
    "val_acc = history.history['val_mean_squared_error']\n",
    "\n",
    "loss = history.history['loss']\n",
    "val_loss = history.history['val_loss']\n",
    "\n",
    "epochs_range = range(epochs)\n",
    "\n",
    "plt.figure(figsize=(8, 8))\n",
    "plt.subplot(1, 2, 1)\n",
    "plt.plot(epochs_range, acc, label='Training mse')\n",
    "plt.plot(epochs_range, val_acc, label='Validation mse')\n",
    "plt.legend(loc='lower right')\n",
    "plt.title('Training and Validation Accuracy')\n",
    "\n",
    "plt.subplot(1, 2, 2)\n",
    "plt.plot(epochs_range, loss, label='Training Loss')\n",
    "plt.plot(epochs_range, val_loss, label='Validation Loss')\n",
    "plt.legend(loc='upper right')\n",
    "plt.title('Training and Validation Loss')\n",
    "plt.show()"
   ]
  },
  {
   "cell_type": "code",
   "execution_count": 58,
   "id": "7675adb6",
   "metadata": {},
   "outputs": [
    {
     "name": "stdout",
     "output_type": "stream",
     "text": [
      "73/73 [==============================] - 4s 47ms/step - loss: 47.0819 - mean_squared_error: 47.0819\n"
     ]
    },
    {
     "data": {
      "text/plain": [
       "[47.0819091796875, 47.08191680908203]"
      ]
     },
     "execution_count": 58,
     "metadata": {},
     "output_type": "execute_result"
    }
   ],
   "source": [
    "model.evaluate(test_set)"
   ]
  },
  {
   "cell_type": "code",
   "execution_count": 34,
   "id": "610e6be0",
   "metadata": {},
   "outputs": [],
   "source": [
    "model = tf.keras.models.load_model('best_model_checkpoint.h5')"
   ]
  },
  {
   "cell_type": "code",
   "execution_count": 35,
   "id": "8f00efcd",
   "metadata": {},
   "outputs": [],
   "source": [
    "model.save('Encoder_CNN_100_epochs_model.keras')"
   ]
  },
  {
   "cell_type": "code",
   "execution_count": 63,
   "id": "52456acc",
   "metadata": {},
   "outputs": [
    {
     "name": "stdout",
     "output_type": "stream",
     "text": [
      "1/1 [==============================] - 0s 150ms/step\n"
     ]
    }
   ],
   "source": [
    "#evaluate model on test set example to calculate approx M value - we nake the same date files\n",
    "test = np.load(file_list[numbers[-1]])#np.load(wrf_path+'wrfout_d01_2019-02-24_00%3A00%3A00.npy')\n",
    "test_scaled = scale_data(test)\n",
    "target_val = np.load(target_list[numbers[-1]])#target_path+'era_uv10_t2_2019-12-28.npy')\n",
    "predict = model.predict(test_scaled)\n",
    "#we add correction to the initial wrf test data\n",
    "wrf_corrected = predict+test"
   ]
  },
  {
   "cell_type": "code",
   "execution_count": 64,
   "id": "85a8f1f9",
   "metadata": {},
   "outputs": [
    {
     "name": "stdout",
     "output_type": "stream",
     "text": [
      "0.9984837760132252\n"
     ]
    }
   ],
   "source": [
    "#calculate approx M metrics\n",
    "M_approx=(mean_squared_error(np.ravel(target_val), np.ravel(test))-mean_squared_error(np.ravel(target_val), np.ravel(wrf_corrected)))/mean_squared_error(np.ravel(target_val), np.ravel(test))\n",
    "print(M_approx)"
   ]
  },
  {
   "cell_type": "code",
   "execution_count": 36,
   "id": "61180323",
   "metadata": {},
   "outputs": [
    {
     "name": "stdout",
     "output_type": "stream",
     "text": [
      "1.0\n"
     ]
    }
   ],
   "source": [
    "M_approx=(mean_squared_error(np.ravel(target_val), np.ravel(test))-mean_squared_error(np.ravel(target_val))/mean_squared_error(np.ravel(target_val), np.ravel(test))\n",
    "print(M_approx)"
   ]
  },
  {
   "cell_type": "code",
   "execution_count": 32,
   "id": "c4f2c5f6",
   "metadata": {},
   "outputs": [
    {
     "data": {
      "text/plain": [
       "'2.10.1'"
      ]
     },
     "execution_count": 32,
     "metadata": {},
     "output_type": "execute_result"
    }
   ],
   "source": [
    "tf.__version__"
   ]
  },
  {
   "cell_type": "code",
   "execution_count": 60,
   "id": "30c0377d",
   "metadata": {},
   "outputs": [
    {
     "data": {
      "text/plain": [
       "'C:\\\\Users\\\\User\\\\Desktop\\\\0-Rojects\\\\2023 International\\\\train\\\\target\\\\era_uv10_t2_2019-04-24.npy'"
      ]
     },
     "execution_count": 60,
     "metadata": {},
     "output_type": "execute_result"
    }
   ],
   "source": [
    "target_list[numbers[-1]]"
   ]
  },
  {
   "cell_type": "code",
   "execution_count": 61,
   "id": "a06b62ac",
   "metadata": {},
   "outputs": [
    {
     "data": {
      "text/plain": [
       "'C:\\\\Users\\\\User\\\\Desktop\\\\0-Rojects\\\\2023 International\\\\train\\\\wrf\\\\wrfout_d01_2019-04-24_00%3A00%3A00.npy'"
      ]
     },
     "execution_count": 61,
     "metadata": {},
     "output_type": "execute_result"
    }
   ],
   "source": [
    "file_list[numbers[-1]]"
   ]
  },
  {
   "cell_type": "code",
   "execution_count": null,
   "id": "4e06d89e",
   "metadata": {},
   "outputs": [],
   "source": [
    "[127, 103, 74, 10, 255, 170, 289, 124, 221, 286, 272, 267, 219, 295, 213, 138, 26, 128, 160, 218, 86, 130, 287, 25, 169, 174, 44, 145, 312, 140, 156, 311, 64, 308, 117, 106, 323, 244, 181, 137, 114, 14, 215, 52, 166, 90, 11, 224, 245, 20, 34, 118, 84, 331, 7, 249, 82, 111, 105, 220, 5, 254, 336, 281, 0, 350, 63, 42, 104, 275, 121, 329, 109, 75, 345, 332, 202, 168, 304, 322, 179, 276, 326, 110, 320, 165, 268, 112, 298, 45, 200, 340, 180, 233, 135, 199, 33, 122, 159, 18, 167, 225, 4, 263, 248, 173, 355, 234, 269, 139, 31, 48, 152, 241, 356, 162, 305, 314, 2, 70, 338, 68, 271, 309, 231, 306, 65, 330, 184, 293, 282, 107, 79, 27, 260, 258, 24, 347, 13, 344, 363, 239, 6, 285, 288, 339, 12, 240, 172, 35, 21, 123, 265, 250, 190, 195, 209, 321, 204, 163, 99, 205, 193, 186, 294, 95, 155, 334, 315, 201, 232, 342, 92, 197, 150, 211, 346, 72, 319, 273, 131, 229, 16, 100, 243, 116, 228, 59, 237, 23, 182, 98, 335, 61, 247, 206, 262, 236, 54, 217, 198, 257, 161, 313, 76, 8, 3, 185, 176, 274, 360, 364, 37, 96, 51, 307, 223, 214, 158, 310, 85, 47, 101, 171, 66, 296, 284, 203, 207, 333, 120, 297, 358, 40, 77, 246, 39, 32, 144, 264, 146, 56, 125, 134, 341, 30, 73, 357, 317, 327, 175, 300, 277, 132, 83, 337, 38, 196, 141, 302, 78, 283, 210, 256, 17, 29, 278, 212, 108, 149, 94, 81, 102, 208, 147, 318, 58, 343, 41, 192, 69, 153, 352, 351, 36, 261, 216, 1, 87, 301, 238, 291, 91, 325, 290, 252, 226, 178, 133, 189, 187, 129, 266, 251, 157, 154, 362, 303, 242, 188, 148, 15, 142, 361, 53, 93, 115, 222, 136, 227, 348, 191, 49, 67, 19, 353, 143, 80, 62, 359, 89, 280, 270, 299, 316, 97, 183, 43, 328, 119, 164, 349, 151, 292, 177, 259, 235, 253, 46, 194, 230, 9, 279, 71, 22, 28, 88, 354, 55, 60, 126, 50, 57, 324, 113]"
   ]
  }
 ],
 "metadata": {
  "kernelspec": {
   "display_name": "Python 3 (ipykernel)",
   "language": "python",
   "name": "python3"
  },
  "language_info": {
   "codemirror_mode": {
    "name": "ipython",
    "version": 3
   },
   "file_extension": ".py",
   "mimetype": "text/x-python",
   "name": "python",
   "nbconvert_exporter": "python",
   "pygments_lexer": "ipython3",
   "version": "3.10.13"
  }
 },
 "nbformat": 4,
 "nbformat_minor": 5
}
