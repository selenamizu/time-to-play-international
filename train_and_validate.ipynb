{
 "cells": [
  {
   "cell_type": "code",
   "execution_count": 1,
   "id": "87fa5df9",
   "metadata": {},
   "outputs": [],
   "source": [
    "#import pandas as pd\n",
    "import numpy as np\n",
    "import datetime\n",
    "from tqdm import tqdm\n",
    "from sklearn.preprocessing import StandardScaler\n",
    "from sklearn.metrics import mean_squared_error\n",
    "from datetime import datetime"
   ]
  },
  {
   "cell_type": "code",
   "execution_count": 2,
   "id": "0ced88fb",
   "metadata": {},
   "outputs": [],
   "source": [
    "import matplotlib.pyplot as plt # plotting\n",
    "import os # accessing directory structure"
   ]
  },
  {
   "cell_type": "code",
   "execution_count": 3,
   "id": "b210024d",
   "metadata": {},
   "outputs": [],
   "source": [
    "import tensorflow as tf\n",
    "from keras import layers\n",
    "from keras import models\n",
    "import gc\n",
    "from tensorflow.keras.callbacks import ModelCheckpoint"
   ]
  },
  {
   "cell_type": "code",
   "execution_count": 4,
   "id": "c10687be",
   "metadata": {},
   "outputs": [],
   "source": [
    "def make_target(era_fname, mapping):\n",
    "    era = np.load(era_fname)\n",
    "    data = np.reshape(era, (era.shape[0],era.shape[1], -1))\n",
    "    target = np.zeros((24,3,len(mapping)))\n",
    "    for i in range(len(mapping)):\n",
    "        target[:,:,i] = data[:,:,mapping[i]]\n",
    "    \n",
    "    return target\n"
   ]
  },
  {
   "cell_type": "code",
   "execution_count": 5,
   "id": "cc2fd399",
   "metadata": {},
   "outputs": [],
   "source": [
    "mapping = np.load('wrferaMapping.npy')\n",
    "landmask = np.load('landmask.npy')"
   ]
  },
  {
   "cell_type": "code",
   "execution_count": 304,
   "id": "d827086d",
   "metadata": {},
   "outputs": [
    {
     "name": "stdout",
     "output_type": "stream",
     "text": [
      "(24, 3, 58800)\n",
      "(24, 3, 58800)\n",
      "(24, 3, 58800)\n",
      "(24, 3, 58800)\n",
      "(24, 3, 58800)\n",
      "(24, 3, 58800)\n",
      "(24, 3, 58800)\n",
      "(24, 3, 58800)\n",
      "(24, 3, 58800)\n",
      "(24, 3, 58800)\n",
      "(24, 3, 58800)\n",
      "(24, 3, 58800)\n",
      "(24, 3, 58800)\n",
      "(24, 3, 58800)\n",
      "(24, 3, 58800)\n",
      "(24, 3, 58800)\n",
      "(24, 3, 58800)\n",
      "(24, 3, 58800)\n",
      "(24, 3, 58800)\n",
      "(24, 3, 58800)\n",
      "(24, 3, 58800)\n",
      "(24, 3, 58800)\n",
      "(24, 3, 58800)\n",
      "(24, 3, 58800)\n",
      "(24, 3, 58800)\n",
      "(24, 3, 58800)\n",
      "(24, 3, 58800)\n",
      "(24, 3, 58800)\n",
      "(24, 3, 58800)\n",
      "(24, 3, 58800)\n",
      "(24, 3, 58800)\n",
      "(24, 3, 58800)\n",
      "(24, 3, 58800)\n",
      "(24, 3, 58800)\n",
      "(24, 3, 58800)\n",
      "(24, 3, 58800)\n",
      "(24, 3, 58800)\n",
      "(24, 3, 58800)\n",
      "(24, 3, 58800)\n",
      "(24, 3, 58800)\n",
      "(24, 3, 58800)\n",
      "(24, 3, 58800)\n",
      "(24, 3, 58800)\n",
      "(24, 3, 58800)\n",
      "(24, 3, 58800)\n",
      "(24, 3, 58800)\n",
      "(24, 3, 58800)\n",
      "(24, 3, 58800)\n",
      "(24, 3, 58800)\n",
      "(24, 3, 58800)\n",
      "(24, 3, 58800)\n",
      "(24, 3, 58800)\n",
      "(24, 3, 58800)\n",
      "(24, 3, 58800)\n",
      "(24, 3, 58800)\n",
      "(24, 3, 58800)\n",
      "(24, 3, 58800)\n",
      "(24, 3, 58800)\n",
      "(24, 3, 58800)\n",
      "(24, 3, 58800)\n",
      "(24, 3, 58800)\n",
      "(24, 3, 58800)\n",
      "(24, 3, 58800)\n",
      "(24, 3, 58800)\n",
      "(24, 3, 58800)\n",
      "(24, 3, 58800)\n",
      "(24, 3, 58800)\n",
      "(24, 3, 58800)\n",
      "(24, 3, 58800)\n",
      "(24, 3, 58800)\n",
      "(24, 3, 58800)\n",
      "(24, 3, 58800)\n",
      "(24, 3, 58800)\n",
      "(24, 3, 58800)\n",
      "(24, 3, 58800)\n",
      "(24, 3, 58800)\n",
      "(24, 3, 58800)\n",
      "(24, 3, 58800)\n",
      "(24, 3, 58800)\n",
      "(24, 3, 58800)\n",
      "(24, 3, 58800)\n",
      "(24, 3, 58800)\n",
      "(24, 3, 58800)\n",
      "(24, 3, 58800)\n",
      "(24, 3, 58800)\n",
      "(24, 3, 58800)\n",
      "(24, 3, 58800)\n",
      "(24, 3, 58800)\n",
      "(24, 3, 58800)\n",
      "(24, 3, 58800)\n"
     ]
    },
    {
     "ename": "KeyboardInterrupt",
     "evalue": "",
     "output_type": "error",
     "traceback": [
      "\u001b[1;31m---------------------------------------------------------------------------\u001b[0m",
      "\u001b[1;31mKeyboardInterrupt\u001b[0m                         Traceback (most recent call last)",
      "Cell \u001b[1;32mIn[304], line 9\u001b[0m\n\u001b[0;32m      7\u001b[0m \u001b[38;5;28;01mfor\u001b[39;00m filename \u001b[38;5;129;01min\u001b[39;00m filenames:\n\u001b[0;32m      8\u001b[0m     era_fname \u001b[38;5;241m=\u001b[39m os\u001b[38;5;241m.\u001b[39mpath\u001b[38;5;241m.\u001b[39mjoin(era_path, filename)\n\u001b[1;32m----> 9\u001b[0m     df \u001b[38;5;241m=\u001b[39m \u001b[43mmake_target\u001b[49m\u001b[43m(\u001b[49m\u001b[43mera_fname\u001b[49m\u001b[43m,\u001b[49m\u001b[43m \u001b[49m\u001b[43mmapping\u001b[49m\u001b[43m)\u001b[49m\n\u001b[0;32m     10\u001b[0m     \u001b[38;5;28mprint\u001b[39m(df\u001b[38;5;241m.\u001b[39mshape)\n\u001b[0;32m     11\u001b[0m     target_fname \u001b[38;5;241m=\u001b[39m os\u001b[38;5;241m.\u001b[39mpath\u001b[38;5;241m.\u001b[39mjoin(target_path,filename)\n",
      "Cell \u001b[1;32mIn[301], line 6\u001b[0m, in \u001b[0;36mmake_target\u001b[1;34m(era_fname, mapping)\u001b[0m\n\u001b[0;32m      4\u001b[0m target \u001b[38;5;241m=\u001b[39m np\u001b[38;5;241m.\u001b[39mzeros((\u001b[38;5;241m24\u001b[39m,\u001b[38;5;241m3\u001b[39m,\u001b[38;5;28mlen\u001b[39m(mapping)))\n\u001b[0;32m      5\u001b[0m \u001b[38;5;28;01mfor\u001b[39;00m i \u001b[38;5;129;01min\u001b[39;00m \u001b[38;5;28mrange\u001b[39m(\u001b[38;5;28mlen\u001b[39m(mapping)):\n\u001b[1;32m----> 6\u001b[0m     target[:,:,i] \u001b[38;5;241m=\u001b[39m data[:,:,mapping[i]]\n\u001b[0;32m      8\u001b[0m \u001b[38;5;28;01mreturn\u001b[39;00m target\n",
      "\u001b[1;31mKeyboardInterrupt\u001b[0m: "
     ]
    }
   ],
   "source": [
    "#creates era files mapped to wrf node matrixwrf_shape = (24,3,210,280)\n",
    "wrf_shape = (24,3,210,280)\n",
    "\n",
    "era_path = os.getcwd()+'\\\\train\\\\era5\\\\'\n",
    "target_path = os.getcwd()+'\\\\train\\\\target\\\\'\n",
    "for dirname, _, filenames in os.walk(era_path):\n",
    "    for filename in filenames:\n",
    "        era_fname = os.path.join(era_path, filename)\n",
    "        df = make_target(era_fname, mapping)\n",
    "        target_fname = os.path.join(target_path,filename)\n",
    "        df = np.reshape(df,wrf_shape)\n",
    "        np.save(target_fname,df)\n",
    "    "
   ]
  },
  {
   "cell_type": "code",
   "execution_count": 6,
   "id": "f73f6f62",
   "metadata": {},
   "outputs": [],
   "source": [
    "def scale_data(data):\n",
    "    data[:,2,:,:] = data[:,2,:,:]/100\n",
    "    data=data/20\n",
    "    return data\n",
    "def invert_scale_data(data):\n",
    "    data=data*20\n",
    "    data[:,2,:,:] = data[:,2,:,:]*100\n",
    "    return data"
   ]
  },
  {
   "cell_type": "code",
   "execution_count": 7,
   "id": "214b0db6",
   "metadata": {},
   "outputs": [],
   "source": [
    "def scale_error(error):\n",
    "    error=error/20\n",
    "    return error\n",
    "def invert_scale_error(error):\n",
    "    error=error*20\n",
    "    return error"
   ]
  },
  {
   "cell_type": "code",
   "execution_count": 8,
   "id": "7e3ff27b",
   "metadata": {},
   "outputs": [],
   "source": [
    "import os\n",
    "import glob\n",
    "import numpy as np\n",
    "import tensorflow as tf\n",
    "\n",
    "# Specify the folder containing your .npy files\n",
    "\n",
    "wrf_path = os.getcwd()+'\\\\train\\\\wrf\\\\'\n",
    "target_path = os.getcwd()+'\\\\train\\\\target\\\\'\n",
    "# Get a list of .npy files in the folder\n",
    "file_list = sorted(glob.glob(os.path.join(wrf_path, '*.npy')))\n",
    "target_list = sorted(glob.glob(os.path.join(target_path, '*.npy')))\n",
    "# Shuffle the file list if needed\n",
    "numbers = list(range(len(file_list)))\n",
    "np.random.shuffle(numbers)\n",
    "\n",
    "# Define a custom data generator iterator\n",
    "def data_generator(file_list, target_list, numbers, epochs):\n",
    "    for k in range(epochs):\n",
    "        for i in numbers:\n",
    "            # Load data from the .npy file\n",
    "            data = np.load(file_list[i])\n",
    "            #scaling wrf data, but not target era5\n",
    "            data = scale_data(data)\n",
    "            target = np.load(target_list[i])\n",
    "            \n",
    "            yield data, target\n",
    "\n"
   ]
  },
  {
   "cell_type": "code",
   "execution_count": 12,
   "id": "b601d4a7",
   "metadata": {},
   "outputs": [],
   "source": [
    "batch_size=32\n",
    "input_shape =(batch_size, 3, 210, 280)\n",
    "\n",
    "model = tf.keras.Sequential([\n",
    "  tf.keras.layers.Conv2D(20, 3, activation='relu', data_format='channels_first'),\n",
    "  tf.keras.layers.Conv2D(10, 3, activation='relu', data_format='channels_first'),\n",
    "  tf.keras.layers.Conv2D(10, 3, activation='relu', data_format='channels_first'),\n",
    "  tf.keras.layers.Conv2D(5, 3, activation='relu', data_format='channels_first'),\n",
    "  tf.keras.layers.Conv2D(5, 3, activation='relu', data_format='channels_first'),\n",
    "  tf.keras.layers.Conv2D(5, 3, activation='relu', data_format='channels_first'),\n",
    "    tf.keras.layers.Conv2DTranspose(5, 3, activation='relu', data_format='channels_first'),\n",
    "    tf.keras.layers.Conv2DTranspose(5, 3, activation='relu', data_format='channels_first'),\n",
    "    tf.keras.layers.Conv2DTranspose(5, 3, activation='relu', data_format='channels_first'),\n",
    "    tf.keras.layers.Conv2DTranspose(10, 3, activation='relu', data_format='channels_first'),\n",
    "    tf.keras.layers.Conv2DTranspose(10, 3, activation='relu', data_format='channels_first'),\n",
    "    tf.keras.layers.Conv2DTranspose(3, 3, activation='relu', data_format='channels_first')\n",
    "  \n",
    "  \n",
    "])"
   ]
  },
  {
   "cell_type": "code",
   "execution_count": 13,
   "id": "1c5eeb9b",
   "metadata": {},
   "outputs": [
    {
     "name": "stdout",
     "output_type": "stream",
     "text": [
      "Model: \"sequential_1\"\n",
      "_________________________________________________________________\n",
      " Layer (type)                Output Shape              Param #   \n",
      "=================================================================\n",
      " conv2d_6 (Conv2D)           (32, 20, 208, 278)        560       \n",
      "                                                                 \n",
      " conv2d_7 (Conv2D)           (32, 10, 206, 276)        1810      \n",
      "                                                                 \n",
      " conv2d_8 (Conv2D)           (32, 10, 204, 274)        910       \n",
      "                                                                 \n",
      " conv2d_9 (Conv2D)           (32, 5, 202, 272)         455       \n",
      "                                                                 \n",
      " conv2d_10 (Conv2D)          (32, 5, 200, 270)         230       \n",
      "                                                                 \n",
      " conv2d_11 (Conv2D)          (32, 5, 198, 268)         230       \n",
      "                                                                 \n",
      " conv2d_transpose_6 (Conv2DT  (32, 5, 200, 270)        230       \n",
      " ranspose)                                                       \n",
      "                                                                 \n",
      " conv2d_transpose_7 (Conv2DT  (32, 5, 202, 272)        230       \n",
      " ranspose)                                                       \n",
      "                                                                 \n",
      " conv2d_transpose_8 (Conv2DT  (32, 5, 204, 274)        230       \n",
      " ranspose)                                                       \n",
      "                                                                 \n",
      " conv2d_transpose_9 (Conv2DT  (32, 10, 206, 276)       460       \n",
      " ranspose)                                                       \n",
      "                                                                 \n",
      " conv2d_transpose_10 (Conv2D  (32, 10, 208, 278)       910       \n",
      " Transpose)                                                      \n",
      "                                                                 \n",
      " conv2d_transpose_11 (Conv2D  (32, 3, 210, 280)        273       \n",
      " Transpose)                                                      \n",
      "                                                                 \n",
      "=================================================================\n",
      "Total params: 6,528\n",
      "Trainable params: 6,528\n",
      "Non-trainable params: 0\n",
      "_________________________________________________________________\n"
     ]
    }
   ],
   "source": [
    "model.compile(\n",
    "  optimizer='adam',\n",
    "  loss=tf.keras.losses.MeanSquaredError(),\n",
    "  metrics=['mean_squared_error'])\n",
    "model.build(input_shape=input_shape)\n",
    "model.summary()"
   ]
  },
  {
   "cell_type": "code",
   "execution_count": 25,
   "id": "f127e3fb",
   "metadata": {},
   "outputs": [
    {
     "name": "stdout",
     "output_type": "stream",
     "text": [
      "Epoch 1/10\n",
      "250/250 [==============================] - ETA: 0s - loss: 34.2750 - mean_squared_error: 34.2750\n",
      "Epoch 1: val_loss improved from inf to 41.13326, saving model to best_model_checkpoint.keras\n",
      "250/250 [==============================] - 14s 56ms/step - loss: 34.2750 - mean_squared_error: 34.2750 - val_loss: 41.1333 - val_mean_squared_error: 41.1333\n",
      "Epoch 2/10\n",
      "250/250 [==============================] - ETA: 0s - loss: 34.4963 - mean_squared_error: 34.4963\n",
      "Epoch 2: val_loss improved from 41.13326 to 39.26809, saving model to best_model_checkpoint.keras\n",
      "250/250 [==============================] - 14s 57ms/step - loss: 34.4963 - mean_squared_error: 34.4963 - val_loss: 39.2681 - val_mean_squared_error: 39.2681\n",
      "Epoch 3/10\n",
      "250/250 [==============================] - ETA: 0s - loss: 34.4618 - mean_squared_error: 34.4618\n",
      "Epoch 3: val_loss did not improve from 39.26809\n",
      "250/250 [==============================] - 14s 57ms/step - loss: 34.4618 - mean_squared_error: 34.4618 - val_loss: 39.9023 - val_mean_squared_error: 39.9023\n",
      "Epoch 4/10\n",
      "250/250 [==============================] - ETA: 0s - loss: 34.4135 - mean_squared_error: 34.4135\n",
      "Epoch 4: val_loss improved from 39.26809 to 37.68193, saving model to best_model_checkpoint.keras\n",
      "250/250 [==============================] - 14s 58ms/step - loss: 34.4135 - mean_squared_error: 34.4135 - val_loss: 37.6819 - val_mean_squared_error: 37.6819\n",
      "Epoch 5/10\n",
      "250/250 [==============================] - ETA: 0s - loss: 34.4534 - mean_squared_error: 34.4534\n",
      "Epoch 5: val_loss improved from 37.68193 to 33.72195, saving model to best_model_checkpoint.keras\n",
      "250/250 [==============================] - 15s 58ms/step - loss: 34.4534 - mean_squared_error: 34.4534 - val_loss: 33.7220 - val_mean_squared_error: 33.7220\n",
      "Epoch 6/10\n",
      "250/250 [==============================] - ETA: 0s - loss: 34.3901 - mean_squared_error: 34.3901\n",
      "Epoch 6: val_loss did not improve from 33.72195\n",
      "250/250 [==============================] - 15s 58ms/step - loss: 34.3901 - mean_squared_error: 34.3901 - val_loss: 35.3123 - val_mean_squared_error: 35.3123\n",
      "Epoch 7/10\n",
      "250/250 [==============================] - ETA: 0s - loss: 34.2517 - mean_squared_error: 34.2516\n",
      "Epoch 7: val_loss did not improve from 33.72195\n",
      "250/250 [==============================] - 15s 58ms/step - loss: 34.2517 - mean_squared_error: 34.2516 - val_loss: 36.8517 - val_mean_squared_error: 36.8517\n",
      "Epoch 8/10\n",
      "250/250 [==============================] - ETA: 0s - loss: 33.7699 - mean_squared_error: 33.7699\n",
      "Epoch 8: val_loss did not improve from 33.72195\n",
      "250/250 [==============================] - 15s 59ms/step - loss: 33.7699 - mean_squared_error: 33.7699 - val_loss: 46.6123 - val_mean_squared_error: 46.6123\n",
      "Epoch 9/10\n",
      "250/250 [==============================] - ETA: 0s - loss: 33.8767 - mean_squared_error: 33.8767\n",
      "Epoch 9: val_loss did not improve from 33.72195\n",
      "250/250 [==============================] - 15s 59ms/step - loss: 33.8767 - mean_squared_error: 33.8767 - val_loss: 37.8912 - val_mean_squared_error: 37.8912\n",
      "Epoch 10/10\n",
      "250/250 [==============================] - ETA: 0s - loss: 33.7000 - mean_squared_error: 33.7000\n",
      "Epoch 10: val_loss did not improve from 33.72195\n",
      "250/250 [==============================] - 15s 59ms/step - loss: 33.7000 - mean_squared_error: 33.7000 - val_loss: 50.4883 - val_mean_squared_error: 50.4883\n"
     ]
    }
   ],
   "source": [
    "epochs=10\n",
    "\n",
    "# Create a dataset from the data generator\n",
    "#dataset = tf.data.Dataset.from_generator(data_generator, output_signature=tf.TensorSpec(shape=(None, None), dtype=tf.float32))\n",
    "train_set = data_generator(file_list, target_list, numbers[:len(numbers)*7//10], epochs*2)\n",
    "val_set = data_generator(file_list, target_list, numbers[len(numbers)*7//10:len(numbers)*8//10], epochs*2)\n",
    "test_set = data_generator(file_list, target_list, numbers[len(numbers)*8//10:], 1)\n",
    "\n",
    "# Specify the checkpoint file path and set up the ModelCheckpoint callback\n",
    "checkpoint_path = 'best_model_checkpoint.keras'\n",
    "checkpoint_callback = ModelCheckpoint(checkpoint_path, monitor='val_loss', save_best_only=True, save_weights_only=False, mode='min', verbose=1)\n",
    "\n",
    "\n",
    "\n",
    "history = model.fit(\n",
    "  train_set,\n",
    "  validation_data=val_set,\n",
    "  epochs=epochs,\n",
    "    steps_per_epoch=250,\n",
    "    validation_steps=35,\n",
    "    batch_size = batch_size, \n",
    "    callbacks=[checkpoint_callback]\n",
    "    )"
   ]
  },
  {
   "cell_type": "code",
   "execution_count": 15,
   "id": "2c0be485",
   "metadata": {},
   "outputs": [
    {
     "data": {
      "image/png": "[encoded data removed]",
      "text/plain": [
       "<Figure size 800x800 with 2 Axes>"
      ]
     },
     "metadata": {},
     "output_type": "display_data"
    }
   ],
   "source": [
    "\n",
    "acc = history.history['mean_squared_error']\n",
    "val_acc = history.history['val_mean_squared_error']\n",
    "\n",
    "loss = history.history['loss']\n",
    "val_loss = history.history['val_loss']\n",
    "\n",
    "epochs_range = range(epochs)\n",
    "\n",
    "plt.figure(figsize=(8, 8))\n",
    "plt.subplot(1, 2, 1)\n",
    "plt.plot(epochs_range, acc, label='Training mse')\n",
    "plt.plot(epochs_range, val_acc, label='Validation mse')\n",
    "plt.legend(loc='lower right')\n",
    "plt.title('Training and Validation Accuracy')\n",
    "\n",
    "plt.subplot(1, 2, 2)\n",
    "plt.plot(epochs_range, loss, label='Training Loss')\n",
    "plt.plot(epochs_range, val_loss, label='Validation Loss')\n",
    "plt.legend(loc='upper right')\n",
    "plt.title('Training and Validation Loss')\n",
    "plt.show()"
   ]
  },
  {
   "cell_type": "code",
   "execution_count": 26,
   "id": "38a4e789",
   "metadata": {},
   "outputs": [
    {
     "name": "stdout",
     "output_type": "stream",
     "text": [
      "73/73 [==============================] - 3s 45ms/step - loss: 45.8099 - mean_squared_error: 45.8099\n"
     ]
    },
    {
     "data": {
      "text/plain": [
       "[45.809871673583984, 45.80988693237305]"
      ]
     },
     "execution_count": 26,
     "metadata": {},
     "output_type": "execute_result"
    }
   ],
   "source": [
    "model.evaluate(test_set)"
   ]
  },
  {
   "cell_type": "code",
   "execution_count": 34,
   "id": "99bf95ed",
   "metadata": {},
   "outputs": [],
   "source": [
    "model = tf.keras.models.load_model('best_model_checkpoint.keras')"
   ]
  },
  {
   "cell_type": "code",
   "execution_count": 35,
   "id": "ddd2f983",
   "metadata": {},
   "outputs": [],
   "source": [
    "model.save('Encoder_CNN_100_epochs_model.keras')"
   ]
  },
  {
   "cell_type": "code",
   "execution_count": 21,
   "id": "833d9f08",
   "metadata": {},
   "outputs": [],
   "source": [
    "#evaluate model on test set example to calculate approx M value - we nake the same date files\n",
    "test = np.load(wrf_path+'wrfout_d01_2019-12-28_00%3A00%3A00.npy')\n",
    "test_scaled = scale_data(test)\n",
    "target_val = np.load(target_path+'era_uv10_t2_2019-12-28.npy')\n",
    "predict = model.predict(test_scaled)\n",
    "#we add correction to the initial wrf test data\n",
    "wrf_corrected = predict+test"
   ]
  },
  {
   "cell_type": "code",
   "execution_count": 24,
   "id": "cb42227d",
   "metadata": {},
   "outputs": [
    {
     "data": {
      "text/plain": [
       "0.9977993894228766"
      ]
     },
     "execution_count": 24,
     "metadata": {},
     "output_type": "execute_result"
    }
   ],
   "source": [
    "#calculate approx M metrics\n",
    "M_approx=(mean_squared_error(np.ravel(target_val), np.ravel(test))-mean_squared_error(np.ravel(target_val), np.ravel(wrf_corrected)))/mean_squared_error(np.ravel(target_val), np.ravel(test))\n",
    "print(M_approx)"
   ]
  },
  {
   "cell_type": "code",
   "execution_count": 32,
   "id": "d0eeface",
   "metadata": {},
   "outputs": [
    {
     "data": {
      "text/plain": [
       "'2.10.1'"
      ]
     },
     "execution_count": 32,
     "metadata": {},
     "output_type": "execute_result"
    }
   ],
   "source": [
    "tf.__version__"
   ]
  }
 ],
 "metadata": {
  "kernelspec": {
   "display_name": "Python 3 (ipykernel)",
   "language": "python",
   "name": "python3"
  },
  "language_info": {
   "codemirror_mode": {
    "name": "ipython",
    "version": 3
   },
   "file_extension": ".py",
   "mimetype": "text/x-python",
   "name": "python",
   "nbconvert_exporter": "python",
   "pygments_lexer": "ipython3",
   "version": "3.10.13"
  }
 },
 "nbformat": 4,
 "nbformat_minor": 5
}
